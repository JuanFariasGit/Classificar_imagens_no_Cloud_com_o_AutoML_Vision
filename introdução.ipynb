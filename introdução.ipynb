{
  "nbformat": 4,
  "nbformat_minor": 0,
  "metadata": {
    "colab": {
      "name": "introdução.ipynb",
      "provenance": [],
      "authorship_tag": "ABX9TyPu/YonWdKS3tfUbJ96mVBs",
      "include_colab_link": true
    },
    "kernelspec": {
      "display_name": "Python 3",
      "name": "python3"
    },
    "language_info": {
      "name": "python"
    }
  },
  "cells": [
    {
      "cell_type": "markdown",
      "metadata": {
        "id": "view-in-github",
        "colab_type": "text"
      },
      "source": [
        "<a href=\"https://colab.research.google.com/github/JuanFariasGit/Classificar_imagens_no_Cloud_com_o_AutoML_Vision/blob/master/introdu%C3%A7%C3%A3o.ipynb\" target=\"_parent\"><img src=\"https://colab.research.google.com/assets/colab-badge.svg\" alt=\"Open In Colab\"/></a>"
      ]
    },
    {
      "cell_type": "markdown",
      "metadata": {
        "id": "jTNu2R3H7pgw"
      },
      "source": [
        "# CONSTANTES\n"
      ]
    },
    {
      "cell_type": "code",
      "metadata": {
        "colab": {
          "base_uri": "https://localhost:8080/",
          "height": 35
        },
        "id": "Nzsu0J395aOe",
        "outputId": "2a83e0df-865c-40ee-9fe0-9db369d404b4"
      },
      "source": [
        "import tensorflow as tf\n",
        "tf.__version__\n",
        "#pip install tensorflow==1.15.0"
      ],
      "execution_count": 3,
      "outputs": [
        {
          "output_type": "execute_result",
          "data": {
            "application/vnd.google.colaboratory.intrinsic+json": {
              "type": "string"
            },
            "text/plain": [
              "'1.15.0'"
            ]
          },
          "metadata": {
            "tags": []
          },
          "execution_count": 3
        }
      ]
    },
    {
      "cell_type": "code",
      "metadata": {
        "id": "KvEoByvl8iYs"
      },
      "source": [
        "valor1 = tf.constant(2)\n",
        "valor2 = tf.constant(8)"
      ],
      "execution_count": null,
      "outputs": []
    },
    {
      "cell_type": "code",
      "metadata": {
        "colab": {
          "base_uri": "https://localhost:8080/"
        },
        "id": "Cliw-ZYb8wln",
        "outputId": "986d79d3-a6b6-44b8-e0c6-26999a8c22c8"
      },
      "source": [
        "type(valor1)"
      ],
      "execution_count": null,
      "outputs": [
        {
          "output_type": "execute_result",
          "data": {
            "text/plain": [
              "tensorflow.python.framework.ops.Tensor"
            ]
          },
          "metadata": {
            "tags": []
          },
          "execution_count": 4
        }
      ]
    },
    {
      "cell_type": "code",
      "metadata": {
        "colab": {
          "base_uri": "https://localhost:8080/"
        },
        "id": "YBoSjUiG81zJ",
        "outputId": "ed4ddf1a-3e54-41ff-dd38-5287aa2e11b8"
      },
      "source": [
        "print(valor1)"
      ],
      "execution_count": null,
      "outputs": [
        {
          "output_type": "stream",
          "text": [
            "Tensor(\"Const:0\", shape=(), dtype=int32)\n"
          ],
          "name": "stdout"
        }
      ]
    },
    {
      "cell_type": "code",
      "metadata": {
        "id": "qHGKQlVA86tx"
      },
      "source": [
        "soma = valor1 + valor2"
      ],
      "execution_count": null,
      "outputs": []
    },
    {
      "cell_type": "code",
      "metadata": {
        "colab": {
          "base_uri": "https://localhost:8080/"
        },
        "id": "KSLCyRl_9DBS",
        "outputId": "cb1297f1-b61c-49a6-cecc-1a5c954137b4"
      },
      "source": [
        "type(soma)"
      ],
      "execution_count": null,
      "outputs": [
        {
          "output_type": "execute_result",
          "data": {
            "text/plain": [
              "tensorflow.python.framework.ops.Tensor"
            ]
          },
          "metadata": {
            "tags": []
          },
          "execution_count": 7
        }
      ]
    },
    {
      "cell_type": "code",
      "metadata": {
        "colab": {
          "base_uri": "https://localhost:8080/"
        },
        "id": "CuR2OaFe9GAT",
        "outputId": "47c40097-3d10-4435-8873-a377ad9535f0"
      },
      "source": [
        "print(soma)"
      ],
      "execution_count": null,
      "outputs": [
        {
          "output_type": "stream",
          "text": [
            "Tensor(\"add:0\", shape=(), dtype=int32)\n"
          ],
          "name": "stdout"
        }
      ]
    },
    {
      "cell_type": "code",
      "metadata": {
        "id": "eQfESOtf9J8R"
      },
      "source": [
        "with tf.Session() as sess:\n",
        "  s = sess.run(soma)\n"
      ],
      "execution_count": null,
      "outputs": []
    },
    {
      "cell_type": "code",
      "metadata": {
        "colab": {
          "base_uri": "https://localhost:8080/"
        },
        "id": "5Hpn-7nzAa7_",
        "outputId": "ee1f5720-2377-4e53-e9b4-8b2872f62f9f"
      },
      "source": [
        "print(s)"
      ],
      "execution_count": null,
      "outputs": [
        {
          "output_type": "stream",
          "text": [
            "10\n"
          ],
          "name": "stdout"
        }
      ]
    },
    {
      "cell_type": "code",
      "metadata": {
        "id": "_jOGch6EDOSe"
      },
      "source": [
        "nome = tf.constant('Juan')\n",
        "sobrenome = tf.constant('De Oliveira Farias')"
      ],
      "execution_count": null,
      "outputs": []
    },
    {
      "cell_type": "code",
      "metadata": {
        "id": "cVVozDyhDhFQ"
      },
      "source": [
        "with tf.Session() as sess:\n",
        "  nomecompleto = sess.run(nome + ' ' + sobrenome)"
      ],
      "execution_count": null,
      "outputs": []
    },
    {
      "cell_type": "code",
      "metadata": {
        "colab": {
          "base_uri": "https://localhost:8080/"
        },
        "id": "a1Lrco4QDuTl",
        "outputId": "ce4c2d55-543a-408d-80d2-861b055fe92f"
      },
      "source": [
        "print(nomecompleto)"
      ],
      "execution_count": null,
      "outputs": [
        {
          "output_type": "stream",
          "text": [
            "b'Juan De Oliveira Farias'\n"
          ],
          "name": "stdout"
        }
      ]
    },
    {
      "cell_type": "markdown",
      "metadata": {
        "id": "BZ8Py1FPHKxL"
      },
      "source": [
        "# VARIÁVES 1"
      ]
    },
    {
      "cell_type": "code",
      "metadata": {
        "id": "YFpCn1bvHflH"
      },
      "source": [
        "import tensorflow as tf"
      ],
      "execution_count": 2,
      "outputs": []
    },
    {
      "cell_type": "code",
      "metadata": {
        "id": "HiM-R88cIvn8"
      },
      "source": [
        "valor1 = tf.constant(25, name='valor1')"
      ],
      "execution_count": 3,
      "outputs": []
    },
    {
      "cell_type": "code",
      "metadata": {
        "id": "BEw0mZA4I6xz"
      },
      "source": [
        "soma = tf.Variable(valor1 + 75, name='soma')"
      ],
      "execution_count": 4,
      "outputs": []
    },
    {
      "cell_type": "code",
      "metadata": {
        "colab": {
          "base_uri": "https://localhost:8080/"
        },
        "id": "QlbWPz_jLko7",
        "outputId": "4448b607-d7c2-489d-d96f-65782ed700fb"
      },
      "source": [
        "print(soma)\n",
        "type(soma)"
      ],
      "execution_count": 8,
      "outputs": [
        {
          "output_type": "stream",
          "text": [
            "<tf.Variable 'soma:0' shape=() dtype=int32_ref>\n"
          ],
          "name": "stdout"
        },
        {
          "output_type": "execute_result",
          "data": {
            "text/plain": [
              "tensorflow.python.ops.variables.RefVariable"
            ]
          },
          "metadata": {
            "tags": []
          },
          "execution_count": 8
        }
      ]
    },
    {
      "cell_type": "code",
      "metadata": {
        "id": "L-ttFCSJJkAn"
      },
      "source": [
        "init = tf.global_variables_initializer()"
      ],
      "execution_count": 10,
      "outputs": []
    },
    {
      "cell_type": "code",
      "metadata": {
        "colab": {
          "base_uri": "https://localhost:8080/"
        },
        "id": "g19hVx09J6ho",
        "outputId": "a7ac2dac-ec9e-4600-c431-773c47f928f1"
      },
      "source": [
        "with tf.Session() as sess:\n",
        "  sess.run(init)\n",
        "  print(sess.run(soma))"
      ],
      "execution_count": 11,
      "outputs": [
        {
          "output_type": "stream",
          "text": [
            "100\n"
          ],
          "name": "stdout"
        }
      ]
    }
  ]
}